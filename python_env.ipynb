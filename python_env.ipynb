{
 "cells": [
  {
   "cell_type": "code",
   "execution_count": 1,
   "id": "d3a44671-cb8d-4547-aaee-5ec69f6ca4ca",
   "metadata": {},
   "outputs": [],
   "source": [
    "import os"
   ]
  },
  {
   "cell_type": "code",
   "execution_count": 2,
   "id": "944a4a56-779e-45b4-8365-da347e1c9d2b",
   "metadata": {},
   "outputs": [],
   "source": [
    "mypassword = os.getenv(\"mypassword\")"
   ]
  },
  {
   "cell_type": "code",
   "execution_count": 4,
   "id": "2752779c-5e00-4e13-be58-3510a3ec855c",
   "metadata": {},
   "outputs": [
    {
     "name": "stdout",
     "output_type": "stream",
     "text": [
      "bieber4eva\n"
     ]
    }
   ],
   "source": [
    "print(mypassword)"
   ]
  },
  {
   "cell_type": "code",
   "execution_count": 6,
   "id": "d375f908-810e-4d40-b2c6-18a22080d3df",
   "metadata": {},
   "outputs": [],
   "source": [
    "mypassword2 = os.environ[\"mypassword\"]"
   ]
  },
  {
   "cell_type": "code",
   "execution_count": 7,
   "id": "2e904989-37dd-4036-a4ce-6262b6daa267",
   "metadata": {},
   "outputs": [
    {
     "name": "stdout",
     "output_type": "stream",
     "text": [
      "bieber4eva\n"
     ]
    }
   ],
   "source": [
    "print(mypassword2)"
   ]
  },
  {
   "cell_type": "code",
   "execution_count": null,
   "id": "464482b2-b725-43be-bd47-655b923c11ad",
   "metadata": {},
   "outputs": [],
   "source": []
  }
 ],
 "metadata": {
  "kernelspec": {
   "display_name": "Python 3 (ipykernel)",
   "language": "python",
   "name": "python3"
  },
  "language_info": {
   "codemirror_mode": {
    "name": "ipython",
    "version": 3
   },
   "file_extension": ".py",
   "mimetype": "text/x-python",
   "name": "python",
   "nbconvert_exporter": "python",
   "pygments_lexer": "ipython3",
   "version": "3.11.4"
  }
 },
 "nbformat": 4,
 "nbformat_minor": 5
}
