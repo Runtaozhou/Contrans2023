{
 "cells": [
  {
   "cell_type": "code",
   "execution_count": 1,
   "id": "b7b263ca-f70e-490f-a0bf-8b8efc702aea",
   "metadata": {},
   "outputs": [],
   "source": [
    "import numpy as np\n",
    "import pandas as pd\n",
    "import matplotlib.pyplot as plt \n",
    "import requests \n",
    "import os \n",
    "import json\n"
   ]
  },
  {
   "cell_type": "code",
   "execution_count": 2,
   "id": "23d30428-b44a-4067-9020-b504010c41f8",
   "metadata": {},
   "outputs": [],
   "source": [
    "congressApiKey = os.getenv('congressApi')\n",
    "opensecretsApiKey = os.getenv('opensecretsApi')"
   ]
  },
  {
   "cell_type": "markdown",
   "id": "2bbc6012-2699-4f82-894a-f3b40e9671b5",
   "metadata": {},
   "source": [
    "## Congress Bills API for 118th Congress"
   ]
  },
  {
   "cell_type": "code",
   "execution_count": 3,
   "id": "9c7e4319-b6f5-476b-adfa-ef754ae246dd",
   "metadata": {},
   "outputs": [],
   "source": [
    "root = 'https://api.congress.gov/v3/'\n",
    "congress = \"118\"\n",
    "endpoint  = f\"/bill/{congress}\"\n",
    "parameters = {'format':'json',\n",
    "              'offset':0,\n",
    "              'limit':250,\n",
    "              'sort':'updateDate+desc',\n",
    "              'api_key': congressApiKey\n",
    "             }"
   ]
  },
  {
   "cell_type": "code",
   "execution_count": 4,
   "id": "2eb39f0f-7119-49b2-92f4-d00ed52a49d6",
   "metadata": {},
   "outputs": [
    {
     "data": {
      "text/plain": [
       "'https://api.congress.gov/v3//bill/118'"
      ]
     },
     "execution_count": 4,
     "metadata": {},
     "output_type": "execute_result"
    }
   ],
   "source": [
    "root+endpoint"
   ]
  },
  {
   "cell_type": "code",
   "execution_count": 5,
   "id": "2dd35497-9e95-4ed0-9c80-cb9191dcb876",
   "metadata": {},
   "outputs": [],
   "source": [
    "# headers we'll create thursday "
   ]
  },
  {
   "cell_type": "code",
   "execution_count": 6,
   "id": "f05a604b-2e3a-470a-8756-8446ee234704",
   "metadata": {},
   "outputs": [],
   "source": [
    "r = requests.get(root+endpoint,\n",
    "                params = parameters)"
   ]
  },
  {
   "cell_type": "code",
   "execution_count": 9,
   "id": "857dde64-30d1-4dac-94f6-97c2e3d33645",
   "metadata": {},
   "outputs": [],
   "source": [
    "re = requests.get(\"http://httpbin.org/user-agent\")"
   ]
  },
  {
   "cell_type": "code",
   "execution_count": 13,
   "id": "bb53ea6a-80bb-4438-b91d-0fc318b210fe",
   "metadata": {},
   "outputs": [
    {
     "data": {
      "text/plain": [
       "'python-requests/2.31.0'"
      ]
     },
     "execution_count": 13,
     "metadata": {},
     "output_type": "execute_result"
    }
   ],
   "source": [
    "json.loads(re.text)[\"user-agent\"]"
   ]
  },
  {
   "cell_type": "code",
   "execution_count": 7,
   "id": "c47593aa-e697-46e3-8885-ec9f50c7d817",
   "metadata": {},
   "outputs": [
    {
     "data": {
      "text/plain": [
       "<Response [200]>"
      ]
     },
     "execution_count": 7,
     "metadata": {},
     "output_type": "execute_result"
    }
   ],
   "source": [
    "r"
   ]
  },
  {
   "cell_type": "code",
   "execution_count": 8,
   "id": "da9983ae-2ce7-42c2-ae73-b8baea2b9f07",
   "metadata": {},
   "outputs": [
    {
     "data": {
      "text/plain": [
       "'https://api.congress.gov/v3//bill/118?format=json&offset=0&limit=250&sort=updateDate%2Bdesc&api_key=CmCWSxqg6agjgNx9NcnWICRdbess3WdHadNoTfOL'"
      ]
     },
     "execution_count": 8,
     "metadata": {},
     "output_type": "execute_result"
    }
   ],
   "source": [
    "r.url"
   ]
  },
  {
   "cell_type": "code",
   "execution_count": 26,
   "id": "a3dbe53d-fd2b-4d47-a4f5-8c63b9e1f8c6",
   "metadata": {},
   "outputs": [],
   "source": [
    "myjson = json.loads(r.text)"
   ]
  },
  {
   "cell_type": "code",
   "execution_count": 24,
   "id": "f76a9800-c896-4487-83cf-db9eb1ea7c58",
   "metadata": {},
   "outputs": [],
   "source": [
    "#[x['number'] for x in myjson['bills']]"
   ]
  },
  {
   "cell_type": "code",
   "execution_count": 27,
   "id": "a0535e65-2d31-4a86-aa79-3cf42b67a979",
   "metadata": {},
   "outputs": [],
   "source": [
    "with open('bills.json',\"w\") as f:\n",
    "    json.dump(myjson,f)"
   ]
  },
  {
   "cell_type": "code",
   "execution_count": 28,
   "id": "bd680436-dfb6-4ad4-9e26-3e43344473f8",
   "metadata": {},
   "outputs": [],
   "source": [
    "billsdf = pd.json_normalize(myjson, record_path = [\"bills\"])"
   ]
  },
  {
   "cell_type": "code",
   "execution_count": 29,
   "id": "8d5bf7ae-dedf-48e9-a4d1-b5a179fb26d9",
   "metadata": {},
   "outputs": [
    {
     "data": {
      "text/html": [
       "<div>\n",
       "<style scoped>\n",
       "    .dataframe tbody tr th:only-of-type {\n",
       "        vertical-align: middle;\n",
       "    }\n",
       "\n",
       "    .dataframe tbody tr th {\n",
       "        vertical-align: top;\n",
       "    }\n",
       "\n",
       "    .dataframe thead th {\n",
       "        text-align: right;\n",
       "    }\n",
       "</style>\n",
       "<table border=\"1\" class=\"dataframe\">\n",
       "  <thead>\n",
       "    <tr style=\"text-align: right;\">\n",
       "      <th></th>\n",
       "      <th>congress</th>\n",
       "      <th>number</th>\n",
       "      <th>originChamber</th>\n",
       "      <th>originChamberCode</th>\n",
       "      <th>title</th>\n",
       "      <th>type</th>\n",
       "      <th>updateDate</th>\n",
       "      <th>updateDateIncludingText</th>\n",
       "      <th>url</th>\n",
       "      <th>latestAction.actionDate</th>\n",
       "      <th>latestAction.text</th>\n",
       "      <th>latestAction.actionTime</th>\n",
       "    </tr>\n",
       "  </thead>\n",
       "  <tbody>\n",
       "    <tr>\n",
       "      <th>0</th>\n",
       "      <td>118</td>\n",
       "      <td>354</td>\n",
       "      <td>Senate</td>\n",
       "      <td>S</td>\n",
       "      <td>A resolution congratulating the Louisiana Stat...</td>\n",
       "      <td>SRES</td>\n",
       "      <td>2023-09-21</td>\n",
       "      <td>2023-09-21T12:13:40Z</td>\n",
       "      <td>https://api.congress.gov/v3/bill/118/sres/354?...</td>\n",
       "      <td>2023-09-20</td>\n",
       "      <td>Submitted in the Senate, considered, and agree...</td>\n",
       "      <td>NaN</td>\n",
       "    </tr>\n",
       "    <tr>\n",
       "      <th>1</th>\n",
       "      <td>118</td>\n",
       "      <td>353</td>\n",
       "      <td>Senate</td>\n",
       "      <td>S</td>\n",
       "      <td>A resolution expressing support for the design...</td>\n",
       "      <td>SRES</td>\n",
       "      <td>2023-09-21</td>\n",
       "      <td>2023-09-21T12:13:40Z</td>\n",
       "      <td>https://api.congress.gov/v3/bill/118/sres/353?...</td>\n",
       "      <td>2023-09-20</td>\n",
       "      <td>Submitted in the Senate, considered, and agree...</td>\n",
       "      <td>NaN</td>\n",
       "    </tr>\n",
       "    <tr>\n",
       "      <th>2</th>\n",
       "      <td>118</td>\n",
       "      <td>3935</td>\n",
       "      <td>House</td>\n",
       "      <td>H</td>\n",
       "      <td>Securing Growth and Robust Leadership in Ameri...</td>\n",
       "      <td>HR</td>\n",
       "      <td>2023-09-21</td>\n",
       "      <td>2023-09-21T04:13:50Z</td>\n",
       "      <td>https://api.congress.gov/v3/bill/118/hr/3935?f...</td>\n",
       "      <td>2023-09-20</td>\n",
       "      <td>Read the first time. Placed on Senate Legislat...</td>\n",
       "      <td>NaN</td>\n",
       "    </tr>\n",
       "    <tr>\n",
       "      <th>3</th>\n",
       "      <td>118</td>\n",
       "      <td>1418</td>\n",
       "      <td>House</td>\n",
       "      <td>H</td>\n",
       "      <td>Animal Drug and Animal Generic Drug User Fee A...</td>\n",
       "      <td>HR</td>\n",
       "      <td>2023-09-21</td>\n",
       "      <td>2023-09-21T04:13:50Z</td>\n",
       "      <td>https://api.congress.gov/v3/bill/118/hr/1418?f...</td>\n",
       "      <td>2023-09-20</td>\n",
       "      <td>Read twice. Placed on Senate Legislative Calen...</td>\n",
       "      <td>NaN</td>\n",
       "    </tr>\n",
       "    <tr>\n",
       "      <th>4</th>\n",
       "      <td>118</td>\n",
       "      <td>2874</td>\n",
       "      <td>Senate</td>\n",
       "      <td>S</td>\n",
       "      <td>A bill to provide fresh produce to individuals...</td>\n",
       "      <td>S</td>\n",
       "      <td>2023-09-21</td>\n",
       "      <td>2023-09-21T04:15:32Z</td>\n",
       "      <td>https://api.congress.gov/v3/bill/118/s/2874?fo...</td>\n",
       "      <td>2023-09-20</td>\n",
       "      <td>Read twice and referred to the Committee on Ag...</td>\n",
       "      <td>NaN</td>\n",
       "    </tr>\n",
       "    <tr>\n",
       "      <th>...</th>\n",
       "      <td>...</td>\n",
       "      <td>...</td>\n",
       "      <td>...</td>\n",
       "      <td>...</td>\n",
       "      <td>...</td>\n",
       "      <td>...</td>\n",
       "      <td>...</td>\n",
       "      <td>...</td>\n",
       "      <td>...</td>\n",
       "      <td>...</td>\n",
       "      <td>...</td>\n",
       "      <td>...</td>\n",
       "    </tr>\n",
       "    <tr>\n",
       "      <th>245</th>\n",
       "      <td>118</td>\n",
       "      <td>5473</td>\n",
       "      <td>House</td>\n",
       "      <td>H</td>\n",
       "      <td>Promoting Resilient Buildings Act of 2023</td>\n",
       "      <td>HR</td>\n",
       "      <td>2023-09-20</td>\n",
       "      <td>2023-09-20T13:40:22Z</td>\n",
       "      <td>https://api.congress.gov/v3/bill/118/hr/5473?f...</td>\n",
       "      <td>2023-09-15</td>\n",
       "      <td>Referred to the Subcommittee on Economic Devel...</td>\n",
       "      <td>NaN</td>\n",
       "    </tr>\n",
       "    <tr>\n",
       "      <th>246</th>\n",
       "      <td>118</td>\n",
       "      <td>5465</td>\n",
       "      <td>House</td>\n",
       "      <td>H</td>\n",
       "      <td>Congressional Access to Bureaucratic Offices Act</td>\n",
       "      <td>HR</td>\n",
       "      <td>2023-09-21</td>\n",
       "      <td>2023-09-21T11:30:24Z</td>\n",
       "      <td>https://api.congress.gov/v3/bill/118/hr/5465?f...</td>\n",
       "      <td>2023-09-15</td>\n",
       "      <td>Referred to the Subcommittee on Economic Devel...</td>\n",
       "      <td>NaN</td>\n",
       "    </tr>\n",
       "    <tr>\n",
       "      <th>247</th>\n",
       "      <td>118</td>\n",
       "      <td>5457</td>\n",
       "      <td>House</td>\n",
       "      <td>H</td>\n",
       "      <td>Carbon Dioxide Removal Research and Developmen...</td>\n",
       "      <td>HR</td>\n",
       "      <td>2023-09-20</td>\n",
       "      <td>2023-09-20T13:40:22Z</td>\n",
       "      <td>https://api.congress.gov/v3/bill/118/hr/5457?f...</td>\n",
       "      <td>2023-09-15</td>\n",
       "      <td>Referred to the Subcommittee on Water Resource...</td>\n",
       "      <td>NaN</td>\n",
       "    </tr>\n",
       "    <tr>\n",
       "      <th>248</th>\n",
       "      <td>118</td>\n",
       "      <td>9</td>\n",
       "      <td>Senate</td>\n",
       "      <td>S</td>\n",
       "      <td>A joint resolution providing for congressional...</td>\n",
       "      <td>SJRES</td>\n",
       "      <td>2023-09-20</td>\n",
       "      <td>2023-09-20T14:08:25Z</td>\n",
       "      <td>https://api.congress.gov/v3/bill/118/sjres/9?f...</td>\n",
       "      <td>2023-09-14</td>\n",
       "      <td>Presented to President.</td>\n",
       "      <td>NaN</td>\n",
       "    </tr>\n",
       "    <tr>\n",
       "      <th>249</th>\n",
       "      <td>118</td>\n",
       "      <td>2544</td>\n",
       "      <td>House</td>\n",
       "      <td>H</td>\n",
       "      <td>Securing the U.S. Organ Procurement and Transp...</td>\n",
       "      <td>HR</td>\n",
       "      <td>2023-09-20</td>\n",
       "      <td>2023-09-20T14:04:13Z</td>\n",
       "      <td>https://api.congress.gov/v3/bill/118/hr/2544?f...</td>\n",
       "      <td>2023-09-14</td>\n",
       "      <td>Presented to President.</td>\n",
       "      <td>NaN</td>\n",
       "    </tr>\n",
       "  </tbody>\n",
       "</table>\n",
       "<p>250 rows × 12 columns</p>\n",
       "</div>"
      ],
      "text/plain": [
       "     congress number originChamber originChamberCode  \\\n",
       "0         118    354        Senate                 S   \n",
       "1         118    353        Senate                 S   \n",
       "2         118   3935         House                 H   \n",
       "3         118   1418         House                 H   \n",
       "4         118   2874        Senate                 S   \n",
       "..        ...    ...           ...               ...   \n",
       "245       118   5473         House                 H   \n",
       "246       118   5465         House                 H   \n",
       "247       118   5457         House                 H   \n",
       "248       118      9        Senate                 S   \n",
       "249       118   2544         House                 H   \n",
       "\n",
       "                                                 title   type  updateDate  \\\n",
       "0    A resolution congratulating the Louisiana Stat...   SRES  2023-09-21   \n",
       "1    A resolution expressing support for the design...   SRES  2023-09-21   \n",
       "2    Securing Growth and Robust Leadership in Ameri...     HR  2023-09-21   \n",
       "3    Animal Drug and Animal Generic Drug User Fee A...     HR  2023-09-21   \n",
       "4    A bill to provide fresh produce to individuals...      S  2023-09-21   \n",
       "..                                                 ...    ...         ...   \n",
       "245          Promoting Resilient Buildings Act of 2023     HR  2023-09-20   \n",
       "246   Congressional Access to Bureaucratic Offices Act     HR  2023-09-21   \n",
       "247  Carbon Dioxide Removal Research and Developmen...     HR  2023-09-20   \n",
       "248  A joint resolution providing for congressional...  SJRES  2023-09-20   \n",
       "249  Securing the U.S. Organ Procurement and Transp...     HR  2023-09-20   \n",
       "\n",
       "    updateDateIncludingText  \\\n",
       "0      2023-09-21T12:13:40Z   \n",
       "1      2023-09-21T12:13:40Z   \n",
       "2      2023-09-21T04:13:50Z   \n",
       "3      2023-09-21T04:13:50Z   \n",
       "4      2023-09-21T04:15:32Z   \n",
       "..                      ...   \n",
       "245    2023-09-20T13:40:22Z   \n",
       "246    2023-09-21T11:30:24Z   \n",
       "247    2023-09-20T13:40:22Z   \n",
       "248    2023-09-20T14:08:25Z   \n",
       "249    2023-09-20T14:04:13Z   \n",
       "\n",
       "                                                   url  \\\n",
       "0    https://api.congress.gov/v3/bill/118/sres/354?...   \n",
       "1    https://api.congress.gov/v3/bill/118/sres/353?...   \n",
       "2    https://api.congress.gov/v3/bill/118/hr/3935?f...   \n",
       "3    https://api.congress.gov/v3/bill/118/hr/1418?f...   \n",
       "4    https://api.congress.gov/v3/bill/118/s/2874?fo...   \n",
       "..                                                 ...   \n",
       "245  https://api.congress.gov/v3/bill/118/hr/5473?f...   \n",
       "246  https://api.congress.gov/v3/bill/118/hr/5465?f...   \n",
       "247  https://api.congress.gov/v3/bill/118/hr/5457?f...   \n",
       "248  https://api.congress.gov/v3/bill/118/sjres/9?f...   \n",
       "249  https://api.congress.gov/v3/bill/118/hr/2544?f...   \n",
       "\n",
       "    latestAction.actionDate  \\\n",
       "0                2023-09-20   \n",
       "1                2023-09-20   \n",
       "2                2023-09-20   \n",
       "3                2023-09-20   \n",
       "4                2023-09-20   \n",
       "..                      ...   \n",
       "245              2023-09-15   \n",
       "246              2023-09-15   \n",
       "247              2023-09-15   \n",
       "248              2023-09-14   \n",
       "249              2023-09-14   \n",
       "\n",
       "                                     latestAction.text latestAction.actionTime  \n",
       "0    Submitted in the Senate, considered, and agree...                     NaN  \n",
       "1    Submitted in the Senate, considered, and agree...                     NaN  \n",
       "2    Read the first time. Placed on Senate Legislat...                     NaN  \n",
       "3    Read twice. Placed on Senate Legislative Calen...                     NaN  \n",
       "4    Read twice and referred to the Committee on Ag...                     NaN  \n",
       "..                                                 ...                     ...  \n",
       "245  Referred to the Subcommittee on Economic Devel...                     NaN  \n",
       "246  Referred to the Subcommittee on Economic Devel...                     NaN  \n",
       "247  Referred to the Subcommittee on Water Resource...                     NaN  \n",
       "248                            Presented to President.                     NaN  \n",
       "249                            Presented to President.                     NaN  \n",
       "\n",
       "[250 rows x 12 columns]"
      ]
     },
     "execution_count": 29,
     "metadata": {},
     "output_type": "execute_result"
    }
   ],
   "source": [
    "billsdf"
   ]
  },
  {
   "cell_type": "code",
   "execution_count": null,
   "id": "0cba9566-3ae5-4a4f-8217-45f4de8393d2",
   "metadata": {},
   "outputs": [],
   "source": [
    "root = \"http://www.opensecrets.org/api/\"\n",
    "parameters = {'method' : \"getLegislators\",\n",
    "             \"apikey\": opensecretsApiKey,\n",
    "             \"id\":\"VA\",\n",
    "             \"output\":\"json\"\n",
    "             }\n"
   ]
  }
 ],
 "metadata": {
  "kernelspec": {
   "display_name": "Python 3 (ipykernel)",
   "language": "python",
   "name": "python3"
  },
  "language_info": {
   "codemirror_mode": {
    "name": "ipython",
    "version": 3
   },
   "file_extension": ".py",
   "mimetype": "text/x-python",
   "name": "python",
   "nbconvert_exporter": "python",
   "pygments_lexer": "ipython3",
   "version": "3.11.4"
  }
 },
 "nbformat": 4,
 "nbformat_minor": 5
}
